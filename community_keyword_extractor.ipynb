{
 "cells": [
  {
   "cell_type": "markdown",
   "metadata": {},
   "source": [
    "# Community Keyword Extractor"
   ]
  },
  {
   "cell_type": "code",
   "execution_count": 1,
   "metadata": {},
   "outputs": [
    {
     "name": "stdout",
     "output_type": "stream",
     "text": [
      "Requirement already satisfied: keybert in /Users/sallycaoyu/Downloads/anaconda3/lib/python3.7/site-packages (0.7.0)\n",
      "Requirement already satisfied: sentence-transformers>=0.3.8 in /Users/sallycaoyu/Downloads/anaconda3/lib/python3.7/site-packages (from keybert) (2.2.2)\n",
      "Requirement already satisfied: numpy>=1.18.5 in /Users/sallycaoyu/Downloads/anaconda3/lib/python3.7/site-packages (from keybert) (1.21.6)\n",
      "Requirement already satisfied: rich>=10.4.0 in /Users/sallycaoyu/Downloads/anaconda3/lib/python3.7/site-packages (from keybert) (12.6.0)\n",
      "Requirement already satisfied: scikit-learn>=0.22.2 in /Users/sallycaoyu/Downloads/anaconda3/lib/python3.7/site-packages (from keybert) (1.0.2)\n",
      "Requirement already satisfied: transformers<5.0.0,>=4.6.0 in /Users/sallycaoyu/Downloads/anaconda3/lib/python3.7/site-packages (from sentence-transformers>=0.3.8->keybert) (4.25.1)\n",
      "Requirement already satisfied: torchvision in /Users/sallycaoyu/Downloads/anaconda3/lib/python3.7/site-packages (from sentence-transformers>=0.3.8->keybert) (0.14.0)\n",
      "Requirement already satisfied: torch>=1.6.0 in /Users/sallycaoyu/Downloads/anaconda3/lib/python3.7/site-packages (from sentence-transformers>=0.3.8->keybert) (1.8.1)\n",
      "Requirement already satisfied: sentencepiece in /Users/sallycaoyu/Downloads/anaconda3/lib/python3.7/site-packages (from sentence-transformers>=0.3.8->keybert) (0.1.97)\n",
      "Requirement already satisfied: tqdm in /Users/sallycaoyu/Downloads/anaconda3/lib/python3.7/site-packages (from sentence-transformers>=0.3.8->keybert) (4.48.2)\n",
      "Requirement already satisfied: scipy in /Users/sallycaoyu/Downloads/anaconda3/lib/python3.7/site-packages (from sentence-transformers>=0.3.8->keybert) (1.3.0)\n",
      "Requirement already satisfied: huggingface-hub>=0.4.0 in /Users/sallycaoyu/Downloads/anaconda3/lib/python3.7/site-packages (from sentence-transformers>=0.3.8->keybert) (0.11.1)\n",
      "Requirement already satisfied: nltk in /Users/sallycaoyu/Downloads/anaconda3/lib/python3.7/site-packages (from sentence-transformers>=0.3.8->keybert) (3.4.4)\n",
      "Requirement already satisfied: typing-extensions<5.0,>=4.0.0; python_version < \"3.9\" in /Users/sallycaoyu/Downloads/anaconda3/lib/python3.7/site-packages (from rich>=10.4.0->keybert) (4.4.0)\n",
      "Requirement already satisfied: pygments<3.0.0,>=2.6.0 in /Users/sallycaoyu/Downloads/anaconda3/lib/python3.7/site-packages (from rich>=10.4.0->keybert) (2.13.0)\n",
      "Requirement already satisfied: commonmark<0.10.0,>=0.9.0 in /Users/sallycaoyu/Downloads/anaconda3/lib/python3.7/site-packages (from rich>=10.4.0->keybert) (0.9.1)\n",
      "Requirement already satisfied: joblib>=0.11 in /Users/sallycaoyu/Downloads/anaconda3/lib/python3.7/site-packages (from scikit-learn>=0.22.2->keybert) (0.13.2)\n",
      "Requirement already satisfied: threadpoolctl>=2.0.0 in /Users/sallycaoyu/Downloads/anaconda3/lib/python3.7/site-packages (from scikit-learn>=0.22.2->keybert) (2.1.0)\n",
      "Requirement already satisfied: regex!=2019.12.17 in /Users/sallycaoyu/Downloads/anaconda3/lib/python3.7/site-packages (from transformers<5.0.0,>=4.6.0->sentence-transformers>=0.3.8->keybert) (2020.7.14)\n",
      "Requirement already satisfied: requests in /Users/sallycaoyu/Downloads/anaconda3/lib/python3.7/site-packages (from transformers<5.0.0,>=4.6.0->sentence-transformers>=0.3.8->keybert) (2.21.0)\n",
      "Requirement already satisfied: pyyaml>=5.1 in /Users/sallycaoyu/Downloads/anaconda3/lib/python3.7/site-packages (from transformers<5.0.0,>=4.6.0->sentence-transformers>=0.3.8->keybert) (5.1.2)\n",
      "Requirement already satisfied: filelock in /Users/sallycaoyu/Downloads/anaconda3/lib/python3.7/site-packages (from transformers<5.0.0,>=4.6.0->sentence-transformers>=0.3.8->keybert) (3.0.12)\n",
      "Requirement already satisfied: packaging>=20.0 in /Users/sallycaoyu/Downloads/anaconda3/lib/python3.7/site-packages (from transformers<5.0.0,>=4.6.0->sentence-transformers>=0.3.8->keybert) (21.3)\n",
      "Requirement already satisfied: importlib-metadata; python_version < \"3.8\" in /Users/sallycaoyu/Downloads/anaconda3/lib/python3.7/site-packages (from transformers<5.0.0,>=4.6.0->sentence-transformers>=0.3.8->keybert) (1.7.0)\n",
      "Requirement already satisfied: tokenizers!=0.11.3,<0.14,>=0.11.1 in /Users/sallycaoyu/Downloads/anaconda3/lib/python3.7/site-packages (from transformers<5.0.0,>=4.6.0->sentence-transformers>=0.3.8->keybert) (0.13.2)\n",
      "Requirement already satisfied: pillow!=8.3.*,>=5.3.0 in /Users/sallycaoyu/Downloads/anaconda3/lib/python3.7/site-packages (from torchvision->sentence-transformers>=0.3.8->keybert) (8.1.0)\n",
      "Requirement already satisfied: six in /Users/sallycaoyu/Downloads/anaconda3/lib/python3.7/site-packages (from nltk->sentence-transformers>=0.3.8->keybert) (1.12.0)\n",
      "Requirement already satisfied: idna<2.9,>=2.5 in /Users/sallycaoyu/Downloads/anaconda3/lib/python3.7/site-packages (from requests->transformers<5.0.0,>=4.6.0->sentence-transformers>=0.3.8->keybert) (2.8)\n",
      "Requirement already satisfied: chardet<3.1.0,>=3.0.2 in /Users/sallycaoyu/Downloads/anaconda3/lib/python3.7/site-packages (from requests->transformers<5.0.0,>=4.6.0->sentence-transformers>=0.3.8->keybert) (3.0.4)\n",
      "Requirement already satisfied: urllib3<1.25,>=1.21.1 in /Users/sallycaoyu/Downloads/anaconda3/lib/python3.7/site-packages (from requests->transformers<5.0.0,>=4.6.0->sentence-transformers>=0.3.8->keybert) (1.24.2)\n",
      "Requirement already satisfied: certifi>=2017.4.17 in /Users/sallycaoyu/Downloads/anaconda3/lib/python3.7/site-packages (from requests->transformers<5.0.0,>=4.6.0->sentence-transformers>=0.3.8->keybert) (2020.12.5)\n",
      "Requirement already satisfied: pyparsing!=3.0.5,>=2.0.2 in /Users/sallycaoyu/Downloads/anaconda3/lib/python3.7/site-packages (from packaging>=20.0->transformers<5.0.0,>=4.6.0->sentence-transformers>=0.3.8->keybert) (2.4.0)\n",
      "Requirement already satisfied: zipp>=0.5 in /Users/sallycaoyu/Downloads/anaconda3/lib/python3.7/site-packages (from importlib-metadata; python_version < \"3.8\"->transformers<5.0.0,>=4.6.0->sentence-transformers>=0.3.8->keybert) (3.1.0)\n"
     ]
    }
   ],
   "source": [
    "!pip install keybert"
   ]
  },
  {
   "cell_type": "code",
   "execution_count": 2,
   "metadata": {},
   "outputs": [
    {
     "name": "stdout",
     "output_type": "stream",
     "text": [
      "Requirement already satisfied: en_core_web_sm==2.1.0 from https://github.com/explosion/spacy-models/releases/download/en_core_web_sm-2.1.0/en_core_web_sm-2.1.0.tar.gz#egg=en_core_web_sm==2.1.0 in /Users/sallycaoyu/Downloads/anaconda3/lib/python3.7/site-packages (2.1.0)\n",
      "\u001b[38;5;2m✔ Download and installation successful\u001b[0m\n",
      "You can now load the model via spacy.load('en_core_web_sm')\n",
      "\u001b[38;5;2m✔ Linking successful\u001b[0m\n",
      "/Users/sallycaoyu/Downloads/anaconda3/lib/python3.7/site-packages/en_core_web_sm\n",
      "-->\n",
      "/Users/sallycaoyu/Downloads/anaconda3/lib/python3.7/site-packages/spacy/data/en\n",
      "You can now load the model via spacy.load('en')\n"
     ]
    }
   ],
   "source": [
    "!python3 -m spacy download en"
   ]
  },
  {
   "cell_type": "code",
   "execution_count": 8,
   "metadata": {},
   "outputs": [],
   "source": [
    "import pickle\n",
    "import re\n",
    "import numpy as np\n",
    "import spacy\n",
    "import keybert\n",
    "from collections import defaultdict, Counter\n",
    "from keybert import KeyBERT"
   ]
  },
  {
   "cell_type": "code",
   "execution_count": 4,
   "metadata": {},
   "outputs": [],
   "source": [
    "with open('community_nodes.pkl', 'rb') as file:\n",
    "    data = pickle.load(file)"
   ]
  },
  {
   "cell_type": "code",
   "execution_count": 5,
   "metadata": {},
   "outputs": [],
   "source": [
    "nlp = spacy.load('en')\n",
    "raw_data = defaultdict(str)\n",
    "for node in data:\n",
    "    raw_data[node['name']] = nlp(node['description']) # tokenize into words"
   ]
  },
  {
   "cell_type": "code",
   "execution_count": 42,
   "metadata": {},
   "outputs": [],
   "source": [
    "def preprocess_doc(doc):\n",
    "    '''remove stopwords, punctuations, whitespaces, all non-alphanumeric chars'''\n",
    "    proc_doc = []\n",
    "    for token in doc:\n",
    "        if not token.is_stop and not token.is_punct and token.pos_ != 'SPACE':\n",
    "            processed_token = token.lower_\n",
    "            \n",
    "            # remove reddit prefix of subreddit\n",
    "            processed_token = processed_token.replace('/r/', ' ').replace('/r',' ').replace('r/', ' ')\n",
    "            \n",
    "            # remove reddit prefix of username\n",
    "            processed_token = processed_token.replace('/u/', ' ').replace('/u',' ').replace('u/', ' ')\n",
    "            \n",
    "            # remove urls\n",
    "            processed_token = re.sub(r'http\\S+', ' ', processed_token)\n",
    "            \n",
    "            # remove all non-alphanumeric chars\n",
    "            processed_token = re.sub(r'[^0-9a-zA-Z]+', ' ', processed_token)\n",
    "            \n",
    "            if processed_token != '' and processed_token != 'r':\n",
    "                proc_doc.append(processed_token)\n",
    "                \n",
    "    return ' '.join(proc_doc)"
   ]
  },
  {
   "cell_type": "code",
   "execution_count": 43,
   "metadata": {},
   "outputs": [],
   "source": [
    "preprocessed_data = defaultdict(str)\n",
    "for name, description in raw_data.items():\n",
    "    preprocessed_data[name] = preprocess_doc(description)"
   ]
  },
  {
   "cell_type": "code",
   "execution_count": 44,
   "metadata": {},
   "outputs": [
    {
     "data": {
      "text/plain": [
       "defaultdict(str,\n",
       "            {'Bitcoin': 'bitcoin currency internet distributed worldwide decentralized digital money unlike traditional currencies dollars bitcoins issued managed central authority whatsoever government company bank charge bitcoin resistant wild inflation corrupt banks bitcoin bank  new bitcoin check use coins  en  bitcoin org  explore bitcoin wiki  wiki main page invest recklessly  bitcoin comments 7gi55s dont invest recklessly  getting started  en getting started faq wiki  wiki faq resources  bitcoin information html common myths  wiki myths buy bitcoins worldwide  bitcoin medium exchange  wiki bitcoin as a medium of exchange earn money mining bitcoin  bitcoin comments 18r5qc will i earn money by mining an answer to all  bitcoin investment  wiki bitcoin as an investment storing bitcoins  wiki storing bitcoins kept gardens die pacifism  lw c1 wellkept gardens die by pacifism  cypherpunk manifesto  cypherpunk manifesto html community guidelines use url shortening services submit real link begging asking bitcoins absolutely allowed matter badly need bitcoins requests donations large recognized charities allowed good reason believe person accepting bitcoins behalf charity trustworthy news articles contain word bitcoin usually topic subreddit general financial news submissions cryptocurrency belong subreddit exclusive bitcoin promotion client software attempts alter bitcoin protocol overwhelming consensus permitted referral links submissions compilations free bitcoin sites trades usually advertised example submissions like buying 100 btc selling computer bitcoins belong   bitcoin primarily news discussion avoid repetition   bitcoin subreddit devoted new information discussion bitcoin ecosystem new merchants welcome announce services bitcoin announced longer news posted aside new merchant announcements interested advertising audience consider reddit self serve advertising system  post bitcoin address explicitly asks aware twitter etc impersonation related communities  sorted roughly decreasing popularity bitcoin beginners  bitcoinbeginners local bitcoin communities  bitcoin wiki local communities bitcoinmarkets  bitcoinmarkets bitcoinairdrops  bitcoinairdrops bitcoinmining  bitcoinmining bitcointaxes  bitcointaxes cryptotax  cryptotax bitmarket  bitmarket jobs4bitcoin   jobs4bitcoins girls gone bitcoin  girlsgonebitcoin nsfw cryptomarkets   cryptomarkets bitcoindiscussion  bitcoindiscussion bitcointechnology  bitcointechnology best crypto   best of crypto  bitcoin wiki communities  non bitcoin communities technology  technology economics  economics crypto  crypto anarcho capitalism  anarcho capitalism cryptocurrencies  cryptocurrencies cryptoanarchy  cryptoanarchy more  bitcoin wiki communities join irc web libera chat bitcoin irc irc libera chat bitcoin bitcoin sites bitcoin forum  bitcoin stack exchange  bitcoin magazine  download bitcoin core bitcoin core  en blog  backbone bitcoin network  wiki full node bitcoin wallets rely bitcoin core way fairly powerful computer online help network running bitcoin core use bitcoin core secure bitcoin wallet latest stable version 23 0 april 2022  en download   bittorrent  bitcoin wiki bitcoin core bittorrent  release announcement  bitcoin bitcoin blob master doc release notes release notes 23 0 md verify integrity software  bitcoin wiki verifying bitcoin core running style sheet credits css subreddit erdune theme modified   annihilia   konkedas logo design   annihilia check work here ',\n",
       "             'Sondheim': 'welcome home things sondheim rules 1 civil 2 follow reddit rules  rules reddiquette  wiki reddiquette useful links  sondheim wiki about wiki useful links sondheim society  sondheim com  sondheim  reddit friends  sondheim wiki about wiki reddit friends   musicals   theatre   broadway   musicaltheatre   intothewoods',\n",
       "             'classicalmusic': 'musician newbie composer listener welcome read subreddit rules  classicalmusic rules  faq post stickied right breaking rules lead post comment removal reversed need exception believe post wrongly removed feel free message us  message compose to 2fr 2fclassicalmusic things know new classical music looking recommendations welcome   classicalresources archive people sure start looking music like send requests basics addition posting extremely frequently asked question told use search bar look similar posts rude offensive strikes wrong report look reports bring things attention faster posts comments certain number reports automatically removed exceptions needed posts accounts certain small karma manually approved mod order appear feed remember tastes tell like particular composer afraid ask dismissing overrated note insult liking disliking specific composer feeling love specific composer feel free post works theirs intrigue acknowledge term classical music somewhat porous sub absolutely limited western classical music currently main focus resources   classicalresources variety resources help expand classical knowledge contains guides beginners index important composers works lists classical pieces organised genre era theme introductory threads new classical start collection previous threads topic ehaft introduction violin concerto euxch guide string quartet i9tm2 guide cello concerto 2j2vnx purchase acquire recordings 114v7l useful links official discord server  qefqrrrnug list classical music subreddits  classicalmusic wiki list browse once  classicalmusic classicalmemes acapella bach baroque bassclarinet bassoon cello chambermusic choralmusic clarinet classicalguitar composer contemporary doublebass earlymusic earlymusicalnotation euphonium flute harp horn musicinstructor musictheory oboe opera orchestra orchestral organ percussion performer piano piccolo saxophonics trombone tuba violinist viola list classical youtube channels o38s public domain sheet music imslp  wiki  visit virtual orchestra friends theredditsymphony classical irc freenode net ',\n",
       "             'drama': '',\n",
       "             'leonardcohen': 'place discuss things cohen',\n",
       "             'mbti': 'mbti short myers briggs type indicator defines 16 types belong according preferred cognitive functions   mbti sorts type type specific function order additionally type uses types functions intuition sensing thinking feeling type determines order attitude functions test kisa ca  humanmetrics  cgi win jtypes2 asp odiseajung  tipos psicologicos jung mbti test myers briggs mbti test1 php en espa ol mypersonality  basic vs pro personality type test requires registration john personality test  notable posts ama typologist neu dario nardi edd it 18gudp multiple models truly understanding types  mbti comments 3xhfvr multiple models and truly understanding the types  analysis functions  mbti comments 48x9m8 my analysis of functions  solving common mistypes  mbti comments 61h4al solving the most common mistypes intj infj intp  adventure mistyped consulting detective  mbti comments 6bcd1h the adventure of the mistyped consulting  personality tests   enneagram   socionics related subreddits   mbtitypeme   mbtidating   extroverts fe se te fe   introvert fi ni ti si   sensor se si   intuitor ne ni   feelingdominant fe fi   thinkingdominant te ti   idealists nf   therationals nt   enfp   istj   entp   isfj   esfj   intp   enfj   istp   estp   infj   esfp   intj   entj   isfp   estj   infp',\n",
       "             'music': '  menu   filter youtube  music new  music music  music search q   flair 3a 22music 20streaming 22 sort   hot restrict sr   on t   day remove filter eddit com music     info faq  music faq rmusicfaq     music subreddits   listentothis   wearethemusicmakers   electronicmusic   listentoconcerts   metal   hiphopheads   classicalmusic list music subreddits  music wiki musicsubreddits     social discord  music chatroom  music last fm group  group reddit twitter  redditmusic facebook  redditmusic  instagram  redditmusic      listen radd it  radio reddit  y4a9f3 musician read guide promoting music  dqc8pb   music faq 0 cal fridays discussions saturdays new original music posts today      music  lia2dm non music  pp9bl0  news follow twitter  wbav5i ama announcements selection links discord invite link   upcoming amas schedule ama  music wiki amaguide amaguide amas more  calendar embed src   redditrmusic 40gmail com ctz   america new york guidelines   music posting rules  i8enkc list 1 music hall fame  h1auhl 2 images instead post subreddits  music wiki musicsubreddits wiki images 3 artist title genre optional text submissions streaming songs albums follow format removed optional additional text included title caps 4 artist reposts 30 days previous post broke 100 points 5 clickbait titles asking votes music stand interesting story music add comments self post text 6 fridays text post friday interesting discussions streaming music post low effort looks like way posting streaming music removed bad discussion posts subject removal day  7 saturdays fresh original music dedicated underground artists original compositions new releases known artists known tracks removed mod discretion submitters original music use flair new releases use new release select flair beneath link posting 8   ifyoulikeblank   tipofmytongue request style posts recommendations new artists similar like use   ifyoulikeblank help identifying song use   tipofmytongue   namethatsong 9 link official artist channels exceptions exclusive releases tracks available artist official channel 10 crowd funding sites 11 links unauthorized music leaks promotion piracy 12 discussions articles directly relevant music music technology music business articles tweets discussing statements musicians relevant work allowed articles discussing events musician lives subject mod discretion 13 follow reddiquette  jjjqhu times   irc channel  edditmusic   music links twitter   subreddit playlister     music player     music last fm group     metal last fm group friends   wearethemusicmakers music composition production theory   listentothis bringing unheard neglected new ears   radioreddit original music redditors come share music official   music plug dj ',\n",
       "             'musicals': 'welcome   musicals   join celebrate musical theater shows composers love actors actresses draw worlds technical gurus transport authors want read wiki post theatre  theatre german musicals  germanmusicals weekly threads   week hold listening week thread chat cycling listening devices additionally hold listening club thread talk depth particular musical like don t like change guidelines   1 kind  courteous  page similar reason love musicals watching listening performing discussing people new people know musicals flaunt knowledge point lack rude way place love 2 flair posts  post sure add correct flair page tidy organized makes easier navigate 3 fun place community lighthearted discussion favorite musicals songs actors soundtracks place afraid question post tag correctly post personal thoughts post poll idea post review post point looks speaks treats poorly rudely message mods action taken safe community rudeness tolerated fun feels like forever way',\n",
       "             'queen': ' queen discuss greatest rock band freddie mercury brian roger taylor john deacon rules 1 posts reasonably linked band queen 2   queen friendly place civil respect fellow queenies 3 memes permitted content better suited   queencirclejerk   queemes 4 posts flair 5 mods reserve right remove negative troll low effort spam posts discretion 6 advertising share awesome merch got direct links sale pages join queen discord chat  uethcuc ama links tim staffell ama  iama comments 9ufhn3 i am tim staffell a musician and artist i was the  rhys thomas ama  iama comments yywu6 iama rhys thomas freddie mercury documentary  ross mccall ama  music comments yyp9ha im actor writer director and producer ross mccall  related subs brian may  brianmay john deacon  deacy friends bandporn eddit com bandporn record store finds  recordstorefinds',\n",
       "             'relationship_advice': ' es sr config nightmodecompatible need help relationship romance friendship family co workers basic human interaction help 1 posts contain title description tldr basic information ages genders length relationship etc 2 submissions request advice specific situation people  submissions giving advice links youtube videos hypotheticals general discussion dae polls adverts spam 3 moral judgment requests moral judgement requests asking people evaluate actions taken actions want context right wrong selfish selfish etc moral judgement question post  relationship advice comments r6w9uh meta am i overreacting am i the asshole is this  4 things sub advice rants unsolicited advice letters ex body counts number sexual partners mental health issues medical health issues legal problems financial problems situations involving minors 18 regardless local laws abuse violence sexual emotional etc removed locked 5 submit update post exactly time 48 hours past original post 6 surveys information requests journalistic academic research questions sent modmail approved prior posting educational work message us  message compose to  relationship advice irb number point contact verify pending research details research consideration press requests routed u eganist modmail message us  message compose to  relationship advice communicating users directly comments 1 comments topic focus op good faith good ethical advice derailing arguments jokes fights moral whataboutism allowed remember goal help fellow human 2 civil  calling insults insensitive language details  relationship advice wiki insults insulting op subject post know know users etc result post comment removal user banned includes limited whore ho hoe slut bitch idiot moron slut shaming including past slurs racial ethnic religious gender sexual identity note inclusive list  banned bans sub permanent free pass care started deserving think subject ire 3 referencing hateful abusive subs individuals content  espousing rhetoric linking subs content conspiratorial nature transphobic anti women men anti lbgt  promote anti vaxx anti science content contains harmful rhetoric groups people banned bans sub permanent free pass information found here  relationship advice wiki index helpful communities a askmenover30  askmenover30 b askwomenover30  askwomenover30 c dead bedrooms  deadbedrooms d ex contact  exnocontact e feminism  feminism f masculism  masculism g lgbt  lgbt h r ainbow  ainbow i long distance  longdistance j okcupid  okcupid  k polyamory  polyamory  l rape counseling  rapecounseling m sane psycho  saneorpsycho n self  self o sex  sex p we met online  wemetonline sw suicide watch  suicidewatch know involved abusive relationship like information warning signs watch check red flag campaign ',\n",
       "             'tifu': '  nsfw sex bodily discharge filter     yes  thkuye nsfw no e reddit com tif nsfw   night mode     yes  tif nightmode no  tif nightmode   flair filter       s  tsiboe small m  eem8fz medium l  q2q9sb large xl  sfwfhu extra large none  tif none community dumbass moments ridiculously stupid share stories laugh internet rules hover details space   1 use proper formatting 1 titles start tifu 2 posts 750 characters body 3 posts tl dr summary end space   2 posts today fucked grandma dude saw newspaper space   3 fault  victim tifu getting robbed scammed attacked cheated etc tifu space   4 overly vulgar posts eg pissing 8203 shitting pants incest 8203 rape 8203 8203 minors 8203 bestiality death animals glorification major crimes space   5 fuckup humblebrags stories zero consequences eg tifu sexy sex moderator discretion space   6 civil racism 8203 bigotry 8203 homophobia 8203 transphobia personal attacks users calling low effort happen type comments read here  tifu wiki rule6 space   7 self promotion making posts express purpose promoting business video game porn career mentioned text post alluding links profile allowed covers implying set stream public link onlyfans future having set past lines upvote comment want examples means comprehensive self promote notes tifupdate posting follow post update story start tifupdate antivaxx rhetoric participation antivaxx subreddits cause ban subreddit related subreddits   tidtrt today right thing   ideasfortifu feedback   animaltifus animals fucking   pranks today pranked   tigfo today got fucked   tifucirclejerk fun tifu friends  tifu w subs tinetwork  user isnotfritzly m tifu participating covid disinformation subreddits grounds denied access community experience people frequent types subreddits participate good faith good fit type atmosphere wish foster subreddit',\n",
       "             'wallstreetbets': 'official twitter  official wsb  official wsb rules submission guidelines maintained new reddit sure check sure date read rules  wallstreetbets rules read comment submission guide  wallstreetbets wiki contentguide read faq  wallstreetbets wiki faq new wallstreetbets trading join discord wsb discord  rncpudcj filter flairs  navigate  wsb  we  recommend  best  daily  dd   dd   all  wallstreetbets search sort   new restrict sr   on q   flair 3add best daily  wallstreetbets search sort   top q   flair 3add restrict sr   on t   day best weekly  wallstreetbets search sort   top q   flair 3add restrict sr   on t   week discussion   all  wallstreetbets search sort   new restrict sr   on q   flair 3adiscussion best daily  wallstreetbets search sort   top q   flair 3adiscussion restrict sr   on t   day best weekly  wallstreetbets search sort   top q   flair 3adiscussion restrict sr   on t   week yolo   all  wallstreetbets search sort   new restrict sr   on q   flair 3ayolo best daily  wallstreetbets search sort   top q   flair 3ayolo restrict sr   on t   day best weekly  wallstreetbets search sort   top q   flair 3ayolo restrict sr   on t   week gain   all  wallstreetbets search sort   new restrict sr   on q   flair 3again best daily  wallstreetbets search sort   top q   flair 3again restrict sr   on t   day best weekly  wallstreetbets search sort   top q   flair 3again restrict sr   on t   week loss   all  wallstreetbets search sort   new restrict sr   on q   flair 3aloss best daily  wallstreetbets search sort   top q   flair 3aloss restrict sr   on t   day best weekly  wallstreetbets search sort   top q   flair 3aloss restrict sr   on t   week shitpost   all  wallstreetbets search sort   new restrict sr   on q   flair 3ashitpost best daily  wallstreetbets search sort   top q   flair 3ashitpost restrict sr   on t   day best weekly  wallstreetbets search sort   top q   flair 3ashitpost restrict sr   on t   week meme   all  wallstreetbets search sort   new restrict sr   on q   flair 3ameme best daily  wallstreetbets search sort   top q   flair 3ameme restrict sr   on t   day best weekly  wallstreetbets search sort   top q   flair 3ameme restrict sr   on t   week storytime   all  wallstreetbets search sort   new restrict sr   on q   flair 3astorytime best daily  wallstreetbets search sort   top q   flair 3astorytime restrict sr   on t   day best weekly  wallstreetbets search sort   top q   flair 3astorytime restrict sr   on t   week satire   all  wallstreetbets search sort   new restrict sr   on q   flair 3asatire best daily  wallstreetbets search sort   top q   flair 3asatire restrict sr   on t   day best weekly  wallstreetbets search sort   top q   flair 3asatire restrict sr   on t   week options   all  wallstreetbets search sort   new restrict sr   on q   flair 3aoptions best daily  wallstreetbets search sort   top q   flair 3aoptions restrict sr   on t   day best weekly  wallstreetbets search sort   top q   flair 3aoptions restrict sr   on t   week futures   all  wallstreetbets search sort   new restrict sr   on q   flair 3afutures best daily  wallstreetbets search sort   top q   flair 3afutures restrict sr   on t   day best weekly  wallstreetbets search sort   top q   flair 3afutures restrict sr   on t   week forex   all  wallstreetbets search sort   new restrict sr   on q   flair 3aforex best daily  wallstreetbets search sort   top q   flair 3aforex restrict sr   on t   day best weekly  wallstreetbets search sort   top q   flair 3aforex restrict sr   on t   week stocks   all  wallstreetbets search sort   new restrict sr   on q   flair 3astocks best daily  wallstreetbets search sort   top q   flair 3astocks restrict sr   on t   day best weekly  wallstreetbets search sort   top q   flair 3astocks restrict sr   on t   week fundamentals   all  wallstreetbets search sort   new restrict sr   on q   flair 3afundamentals best daily  wallstreetbets search sort   top q   flair 3afundamentals restrict sr   on t   day best weekly  wallstreetbets search sort   top q   flair 3afundamentals restrict sr   on t   week technicals   all  wallstreetbets search sort   new restrict sr   on q   flair 3atechnicals best daily  wallstreetbets search sort   top q   flair 3atechnicals restrict sr   on t   day best weekly  wallstreetbets search sort   top q   flair 3atechnicals restrict sr   on t   week earnings thread eddit com wallstreetbets search sort   new restrict sr   on q   flair 3a earnings 20thread daily thread eddit com wallstreetbets search sort   new restrict sr   on q   flair 3a daily 20discussion market trading hours  exchange open close     frankfurt    9 00   8 00 pm    new york  eodoho   9 30   4 00 pm   cme  vzzdpg   5 00 pm   4 15 pm    cboe  fmsnby   8 30   3 15 pm    tokyo  aiwygk   9 00   3 00 pm    hong kong  vlr2vh   9 30   4 00 pm   hours respective timezone  source  hk9cb4'})"
      ]
     },
     "execution_count": 44,
     "metadata": {},
     "output_type": "execute_result"
    }
   ],
   "source": [
    "preprocessed_data"
   ]
  },
  {
   "cell_type": "code",
   "execution_count": 55,
   "metadata": {},
   "outputs": [
    {
     "name": "stdout",
     "output_type": "stream",
     "text": [
      "keywords for r/music: [('edditmusic', 0.3351), ('musician', 0.339), ('classicalmusic', 0.3449), ('songs', 0.4023), ('musicsubreddits', 0.4375)]\n",
      "keywords for r/drama: []\n",
      "keywords for r/relationship_advice: [('requests', 0.2508), ('moral', 0.2637), ('askwomenover30', 0.2784), ('asshole', 0.2785), ('counseling', 0.3176)]\n",
      "keywords for r/tifu: [('sfwfhu', 0.3055), ('pranks', 0.3106), ('ban', 0.3383), ('tifupdate', 0.3469), ('nsfw', 0.37)]\n",
      "keywords for r/Bitcoin: [('btc', 0.4101), ('bitcoindiscussion', 0.4358), ('bitcoinmining', 0.4473), ('bitcoinbeginners', 0.4741), ('cryptocurrencies', 0.4895)]\n",
      "keywords for r/musicals: [('performing', 0.2968), ('actresses', 0.2973), ('germanmusicals', 0.3727), ('soundtracks', 0.4132), ('theatre', 0.4805)]\n",
      "keywords for r/mbti: [('introvert', 0.2499), ('mbti', 0.2516), ('jtypes2', 0.2526), ('mypersonality', 0.2597), ('humanmetrics', 0.3014)]\n",
      "keywords for r/wallstreetbets: [('daily', 0.2137), ('aiwygk', 0.2233), ('contentguide', 0.2271), ('wsb', 0.307), ('wallstreetbets', 0.4572)]\n",
      "keywords for r/classicalmusic: [('piano', 0.3938), ('musicinstructor', 0.4042), ('choralmusic', 0.4311), ('violinist', 0.4417), ('concerto', 0.4839)]\n",
      "keywords for r/queen: [('mercury', 0.3083), ('rock', 0.3145), ('musician', 0.3342), ('queencirclejerk', 0.487), ('deacon', 0.4918)]\n",
      "keywords for r/leonardcohen: []\n",
      "keywords for r/Sondheim: [('things', 0.2084), ('musicaltheatre', 0.2229), ('civil', 0.2444), ('wiki', 0.2524), ('reddiquette', 0.2641)]\n"
     ]
    }
   ],
   "source": [
    "kw_model = KeyBERT()\n",
    "for community, desc in preprocessed_data.items():\n",
    "    keywords = kw_model.extract_keywords(desc, keyphrase_ngram_range=(1, 1), stop_words='english',\n",
    "                                         use_maxsum=True, nr_candidates=10, top_n=5)\n",
    "    print('keywords for r/{}:'.format(community), keywords)"
   ]
  },
  {
   "cell_type": "code",
   "execution_count": 56,
   "metadata": {},
   "outputs": [
    {
     "name": "stdout",
     "output_type": "stream",
     "text": [
      "keywords for r/music: [('musicsubreddits', 0.4375), ('music', 0.4087), ('songs', 0.4023), ('redditmusic', 0.3846), ('musicians', 0.3561)]\n",
      "keywords for r/drama: []\n",
      "keywords for r/relationship_advice: [('counseling', 0.3176), ('abusive', 0.2931), ('asshole', 0.2785), ('askwomenover30', 0.2784), ('advice', 0.2707)]\n",
      "keywords for r/tifu: [('vulgar', 0.4473), ('tifucirclejerk', 0.3765), ('nsfw', 0.37), ('porn', 0.3653), ('tifu', 0.3645)]\n",
      "keywords for r/Bitcoin: [('bitcoin', 0.5899), ('bitcoins', 0.5593), ('cryptocurrencies', 0.4895), ('cryptocurrency', 0.4871), ('bitcoinmarkets', 0.4864)]\n",
      "keywords for r/musicals: [('musicals', 0.6471), ('musical', 0.5475), ('theatre', 0.4805), ('theater', 0.4797), ('soundtracks', 0.4132)]\n",
      "keywords for r/mbti: [('types', 0.4328), ('mbtitypeme', 0.4004), ('personality', 0.3792), ('type', 0.3665), ('humanmetrics', 0.3014)]\n",
      "keywords for r/wallstreetbets: [('twitter', 0.5265), ('wallstreetbets', 0.4572), ('discord', 0.3124), ('wsb', 0.307), ('fmsnby', 0.2492)]\n",
      "keywords for r/classicalmusic: [('classicalmusic', 0.5508), ('composer', 0.5123), ('composers', 0.5072), ('concerto', 0.4839), ('violinist', 0.4417)]\n",
      "keywords for r/queen: [('freddie', 0.601), ('queen', 0.5227), ('queenies', 0.4948), ('deacon', 0.4918), ('queencirclejerk', 0.487)]\n",
      "keywords for r/leonardcohen: [('cohen', 0.6518), ('place', 0.5635), ('things', 0.3814), ('discuss', 0.3488)]\n",
      "keywords for r/Sondheim: [('sondheim', 0.5285), ('broadway', 0.2655), ('reddiquette', 0.2641), ('musicals', 0.2576), ('wiki', 0.2524)]\n"
     ]
    }
   ],
   "source": [
    "for community, desc in preprocessed_data.items():\n",
    "    keywords = kw_model.extract_keywords(desc, keyphrase_ngram_range=(1, 1), stop_words='english',top_n=5)\n",
    "    print('keywords for r/{}:'.format(community), keywords)"
   ]
  },
  {
   "cell_type": "code",
   "execution_count": null,
   "metadata": {},
   "outputs": [],
   "source": []
  }
 ],
 "metadata": {
  "kernelspec": {
   "display_name": "Python 3",
   "language": "python",
   "name": "python3"
  },
  "language_info": {
   "codemirror_mode": {
    "name": "ipython",
    "version": 3
   },
   "file_extension": ".py",
   "mimetype": "text/x-python",
   "name": "python",
   "nbconvert_exporter": "python",
   "pygments_lexer": "ipython3",
   "version": "3.7.2"
  }
 },
 "nbformat": 4,
 "nbformat_minor": 2
}
