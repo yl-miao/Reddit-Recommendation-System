{
 "cells": [
  {
   "cell_type": "code",
   "execution_count": 1,
   "metadata": {},
   "outputs": [],
   "source": [
    "import praw\n",
    "\n",
    "reddit = praw.Reddit(\n",
    "    client_id=\"0nd6ZYsD4ATSitakqlF9Lw\",\n",
    "    client_secret=\"kPy0JkFSfpbYhQcH0Jlud589NSwzyA\",\n",
    "    user_agent=\"android:com.example.myredditapp:v1.2.3 (by u/Beginning-Client-786)\",\n",
    "    username=\"Beginning-Client-786\",\n",
    "    password=\"JJf9i-3*Dc\",\n",
    ")"
   ]
  },
  {
   "cell_type": "code",
   "execution_count": 2,
   "metadata": {},
   "outputs": [
    {
     "name": "stdout",
     "output_type": "stream",
     "text": [
      "False\n",
      "True\n"
     ]
    }
   ],
   "source": [
    "print(reddit.read_only)\n",
    "reddit.read_only = True\n",
    "print(reddit.read_only)\n",
    "\n",
    "# for submission in reddit.subreddit(\"music\").hot(limit=10):\n",
    "#     print(submission.title)"
   ]
  },
  {
   "cell_type": "code",
   "execution_count": 3,
   "metadata": {},
   "outputs": [],
   "source": [
    "# get community nodes:\n",
    "\n",
    "target_subreddits=[\"music\",\"drama\",\"relationship_advice\",\"tifu\",\"Bitcoin\",\"musicals\",\"mbti\",\"wallstreetbets\",\"classicalmusic\",\"queen\",\"leonardcohen\",\"Sondheim\"]\n",
    "\n",
    "community_nodes=[]\n",
    "\n",
    "for subreddit_name in target_subreddits:\n",
    "    subreddit = reddit.subreddit(subreddit_name)\n",
    "    community_nodes.append({\"name\":subreddit.display_name,\"title\":subreddit.title,\"description\":subreddit.description})\n",
    "\n",
    "# print(community_nodes)\n",
    "# subreddit = reddit.subreddit(\"redditdev\")\n",
    "\n",
    "# print(subreddit.display_name)\n",
    "# # Output: redditdev\n",
    "# print(subreddit.title)\n",
    "# # Output: reddit development\n",
    "# print(subreddit.description)\n",
    "# # Output: a subreddit for discussion of ..."
   ]
  },
  {
   "cell_type": "code",
   "execution_count": 5,
   "metadata": {},
   "outputs": [],
   "source": [
    "#submission的属性：https://praw.readthedocs.io/en/stable/code_overview/models/submission.html\n",
    "#redditor的属性：https://praw.readthedocs.io/en/stable/code_overview/models/redditor.html\n",
    "\n",
    "\n",
    "#get user nodes:\n",
    "user_nodes=[]\n",
    "edge_nodes=[]\n",
    "\n",
    "for subreddit_name in target_subreddits:\n",
    "    subreddit = reddit.subreddit(subreddit_name)\n",
    "    # assume you have a Subreddit instance bound to variable `subreddit`\n",
    "    for submission in subreddit.hot(limit=100):\n",
    "    #     print(submission.title)\n",
    "    #     # Output: the submission's title\n",
    "    #     print(submission.score)\n",
    "    #     # Output: the submission's score\n",
    "    #     print(submission.id)\n",
    "        # Output: the submission's ID\n",
    "        if submission.author is None:\n",
    "            continue\n",
    "        \n",
    "        redditor = reddit.redditor(submission.author.name)\n",
    "        # redditor=submission.author\n",
    "        # print(redditor.name)\n",
    "        if redditor.is_blocked or hasattr(redditor,\"is_suspended\"):\n",
    "            continue\n",
    "        user_nodes.append({\"redditor_name\":redditor.name,\"redditor_id\":redditor.id,\"is_gold\":redditor.is_gold,\"is_mod\":redditor.is_mod,\"is_employee\":redditor.is_employee,\"is_friend\":redditor.is_friend,})\n",
    "        \n",
    "        edge_nodes.append({\"redditor_name\":redditor.name,\"redditor_id\":redditor.id,\"corrresponding_subreddit\":subreddit_name,\"upvote\":submission.score,\"upvote_ratio\":submission.upvote_ratio,\"comment_karma\":redditor.comment_karma,\"link_karma\":redditor.link_karma,})\n",
    "        \n",
    "        # print(submission.url)\n",
    "        # Output: the URL the submission points to or the submission's URL if it's a self post\n",
    "\n",
    "\n",
    "print(community_nodes[2])\n",
    "print(len(community_nodes))\n",
    "print(\"=============================================\")\n",
    "print(user_nodes[1])\n",
    "print(len(user_nodes))\n",
    "print(\"=============================================\")\n",
    "print(edge_nodes[1])\n",
    "print(len(edge_nodes))"
   ]
  },
  {
   "cell_type": "code",
   "execution_count": null,
   "metadata": {},
   "outputs": [],
   "source": [
    "import pickle\n",
    "\n",
    "\n",
    "def saveList(paraList, path):\n",
    "    output = open(path, 'wb')\n",
    "    # Pickle dictionary using protocol 0.\n",
    "    pickle.dump(paraList, output)\n",
    "    output.close()\n",
    "\n",
    "\n",
    "'''\n",
    "load the pkl files\n",
    "'''\n",
    "def loadList(path):\n",
    "    pkl_file = open(path, 'rb')\n",
    "    segContent = pickle.load(pkl_file)\n",
    "    pkl_file.close()\n",
    "    return segContent"
   ]
  },
  {
   "cell_type": "code",
   "execution_count": null,
   "metadata": {},
   "outputs": [],
   "source": [
    "# li=[1,2,3,4,5]\n",
    "saveList(user_nodes,\"user_nodes.pkl\")\n",
    "saveList(community_nodes,\"community_nodes.pkl\")\n",
    "saveList(edge_nodes,\"edge_nodes.pkl\")\n",
    "# print(loadList(\"test.pkl\"))"
   ]
  },
  {
   "cell_type": "code",
   "execution_count": null,
   "metadata": {},
   "outputs": [],
   "source": [
    "# assume you have a praw.Reddit instance bound to variable `reddit`\n",
    "# submission = reddit.submission(\"39zje0\")\n",
    "# print(submission.title)\n",
    "# Output: reddit will soon only be available ...\n",
    "\n",
    "# or\n",
    "# submission = reddit.submission(url=\"https://www.reddit.com/...\")"
   ]
  },
  {
   "cell_type": "code",
   "execution_count": null,
   "metadata": {},
   "outputs": [],
   "source": [
    "# assume you have a Submission instance bound to variable `submission`\n",
    "# redditor1 = submission.author\n",
    "# print(redditor1.name)\n",
    "# # Output: name of the redditor\n",
    "\n",
    "# # assume you have a praw.Reddit instance bound to variable `reddit`\n",
    "# redditor2 = reddit.redditor(\"bboe\")\n",
    "# print(redditor2.link_karma)\n",
    "# # Output: u/bboe's karma\n"
   ]
  },
  {
   "cell_type": "code",
   "execution_count": null,
   "metadata": {},
   "outputs": [],
   "source": []
  }
 ],
 "metadata": {
  "kernelspec": {
   "display_name": "Python 3.9.13 ('csci2470')",
   "language": "python",
   "name": "python3"
  },
  "language_info": {
   "codemirror_mode": {
    "name": "ipython",
    "version": 3
   },
   "file_extension": ".py",
   "mimetype": "text/x-python",
   "name": "python",
   "nbconvert_exporter": "python",
   "pygments_lexer": "ipython3",
   "version": "3.9.13"
  },
  "orig_nbformat": 4,
  "vscode": {
   "interpreter": {
    "hash": "cb3d2275306ed533f1d52b9c7c702f318fe6641f8f0f4c677dda34358db96ba7"
   }
  }
 },
 "nbformat": 4,
 "nbformat_minor": 2
}
